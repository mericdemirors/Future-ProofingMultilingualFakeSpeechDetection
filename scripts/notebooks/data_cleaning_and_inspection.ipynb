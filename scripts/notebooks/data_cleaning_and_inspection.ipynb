{
 "cells": [
  {
   "cell_type": "markdown",
   "metadata": {},
   "source": [
    "# Setting up the data csv"
   ]
  },
  {
   "cell_type": "code",
   "execution_count": 1,
   "metadata": {},
   "outputs": [],
   "source": [
    "import os\n",
    "\n",
    "import librosa\n",
    "from tqdm import tqdm\n",
    "import pandas as pd\n",
    "import matplotlib.pyplot as plt"
   ]
  },
  {
   "cell_type": "code",
   "execution_count": 2,
   "metadata": {},
   "outputs": [],
   "source": [
    "dataset_folder_path = \"/hdd/AGAC/AGAC2_datasets/audios/\"\n",
    "dataset_name = \"HULSIL2\""
   ]
  },
  {
   "cell_type": "code",
   "execution_count": 3,
   "metadata": {},
   "outputs": [
    {
     "name": "stderr",
     "output_type": "stream",
     "text": [
      "0it [00:00, ?it/s]\n"
     ]
    }
   ],
   "source": [
    "real_path = os.path.join(dataset_folder_path, dataset_name, \"clean_data\", \"real\")\n",
    "real_wavs = os.listdir(real_path)\n",
    "real_dataframe_values = []\n",
    "\n",
    "corrupted_files = []\n",
    "for wav_file in tqdm(real_wavs):\n",
    "    file_path = os.path.join(real_path, wav_file)\n",
    "    try:\n",
    "        data, samplerate = librosa.load(file_path)\n",
    "        audio_length = len(data) // samplerate\n",
    "        real_dataframe_values.append([file_path, samplerate, len(data), audio_length])\n",
    "    except:\n",
    "        corrupted_files.append(file_path)\n",
    "\n",
    "real_dataframe = pd.DataFrame(columns=[\"path\", \"sample_rate\", \"total_sample_number\", \"seconds\"], data=real_dataframe_values)\n",
    "real_dataframe.to_csv(os.path.join(dataset_folder_path, dataset_name, \"clean_data\", \"real.csv\"), index=False)"
   ]
  },
  {
   "cell_type": "code",
   "execution_count": 4,
   "metadata": {},
   "outputs": [
    {
     "name": "stdout",
     "output_type": "stream",
     "text": [
      "[]\n"
     ]
    }
   ],
   "source": [
    "print(corrupted_files)"
   ]
  },
  {
   "cell_type": "code",
   "execution_count": 5,
   "metadata": {},
   "outputs": [],
   "source": [
    "for file in corrupted_files:\n",
    "    os.remove(file)"
   ]
  },
  {
   "cell_type": "code",
   "execution_count": 6,
   "metadata": {},
   "outputs": [
    {
     "name": "stderr",
     "output_type": "stream",
     "text": [
      "100%|██████████| 1200/1200 [00:03<00:00, 323.50it/s]\n"
     ]
    }
   ],
   "source": [
    "fake_path = os.path.join(dataset_folder_path, dataset_name, \"clean_data\", \"fake\")\n",
    "fake_wavs = os.listdir(fake_path)\n",
    "fake_dataframe_values = []\n",
    "\n",
    "corrupted_files = []\n",
    "for wav_file in tqdm(fake_wavs):\n",
    "    file_path = os.path.join(fake_path, wav_file)\n",
    "    try:\n",
    "        data, samplerate = librosa.load(file_path)\n",
    "        audio_length = len(data) // samplerate\n",
    "        fake_dataframe_values.append([file_path, samplerate, len(data), audio_length])\n",
    "    except:\n",
    "        corrupted_files.append(file_path)\n",
    "\n",
    "fake_dataframe = pd.DataFrame(columns=[\"path\", \"sample_rate\", \"total_sample_number\", \"seconds\"], data=fake_dataframe_values)\n",
    "fake_dataframe.to_csv(os.path.join(dataset_folder_path, dataset_name, \"clean_data\", \"fake.csv\"), index=False)"
   ]
  },
  {
   "cell_type": "code",
   "execution_count": 7,
   "metadata": {},
   "outputs": [
    {
     "name": "stdout",
     "output_type": "stream",
     "text": [
      "[]\n"
     ]
    }
   ],
   "source": [
    "print(corrupted_files)"
   ]
  },
  {
   "cell_type": "code",
   "execution_count": 8,
   "metadata": {},
   "outputs": [],
   "source": [
    "for file in corrupted_files:\n",
    "    os.remove(file)"
   ]
  },
  {
   "cell_type": "code",
   "execution_count": 9,
   "metadata": {},
   "outputs": [],
   "source": [
    "real_df = pd.read_csv(os.path.join(dataset_folder_path, dataset_name, \"clean_data\", \"real.csv\"))\n",
    "fake_df = pd.read_csv(os.path.join(dataset_folder_path, dataset_name, \"clean_data\", \"fake.csv\"))"
   ]
  },
  {
   "cell_type": "code",
   "execution_count": 10,
   "metadata": {},
   "outputs": [
    {
     "data": {
      "image/png": "[encoded data removed]",
      "text/plain": [
       "<Figure size 600x800 with 1 Axes>"
      ]
     },
     "metadata": {},
     "output_type": "display_data"
    }
   ],
   "source": [
    "real_seconds_occurance = real_df[\"seconds\"].value_counts().sort_index()\n",
    "fake_seconds_occurance = fake_df[\"seconds\"].value_counts().sort_index()\n",
    "\n",
    "fig, ax = plt.subplots(figsize=(6, 8))\n",
    "\n",
    "bar_width = 0.35\n",
    "bar_positions_real = real_seconds_occurance.index - bar_width/2\n",
    "bar_positions_fake = fake_seconds_occurance.index + bar_width/2\n",
    "\n",
    "ax.bar(bar_positions_real, real_seconds_occurance, width=bar_width, color='green', alpha=0.7, label='Real', edgecolor='black')\n",
    "ax.bar(bar_positions_fake, fake_seconds_occurance, width=bar_width, color='red', alpha=0.7, label='Fake', edgecolor='black')\n",
    "\n",
    "ax.set_xlabel('Audio length in seconds')\n",
    "ax.set_ylabel('Occurrences')\n",
    "ax.set_title('Histogram of audio length occurrences')\n",
    "ax.set_ylim(0, 5000)\n",
    "ax.set_yticks(range(0, int(max(0, real_seconds_occurance.max(), fake_seconds_occurance.max())) + 500, 500))\n",
    "ax.legend()\n",
    "\n",
    "plt.tight_layout()\n",
    "plt.show()\n"
   ]
  },
  {
   "cell_type": "code",
   "execution_count": null,
   "metadata": {},
   "outputs": [],
   "source": []
  },
  {
   "cell_type": "code",
   "execution_count": null,
   "metadata": {},
   "outputs": [],
   "source": []
  }
 ],
 "metadata": {
  "kernelspec": {
   "display_name": "Python 3",
   "language": "python",
   "name": "python3"
  },
  "language_info": {
   "codemirror_mode": {
    "name": "ipython",
    "version": 3
   },
   "file_extension": ".py",
   "mimetype": "text/x-python",
   "name": "python",
   "nbconvert_exporter": "python",
   "pygments_lexer": "ipython3",
   "version": "3.10.12"
  },
  "orig_nbformat": 4,
  "vscode": {
   "interpreter": {
    "hash": "916dbcbb3f70747c44a77c7bcd40155683ae19c65e1c03b4aa3499c5328201f1"
   }
  }
 },
 "nbformat": 4,
 "nbformat_minor": 2
}
